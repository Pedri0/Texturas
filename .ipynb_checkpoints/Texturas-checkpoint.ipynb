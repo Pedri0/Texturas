{
 "cells": [
  {
   "cell_type": "code",
   "execution_count": 1,
   "metadata": {},
   "outputs": [],
   "source": [
    "#Importamos librerias utiles\n",
    "import pandas as pd\n",
    "import numpy as np\n",
    "import cv2\n",
    "import matplotlib.pyplot as plt\n",
    "from skimage.feature import greycomatrix\n",
    "from skimage.feature import greycoprops\n",
    "from sklearn.naive_bayes import CategoricalNB\n",
    "from sklearn.model_selection import train_test_split\n",
    "from sklearn import svm\n",
    "from sklearn.model_selection import cross_val_score\n",
    "from sklearn.model_selection import cross_val_predict\n",
    "from sklearn.model_selection import ShuffleSplit\n",
    "from sklearn.metrics import accuracy_score\n",
    "#leemos nuestras imagenes de textura(serán 4):\n",
    "tex1 = cv2.imread('texturas/D6.bmp',cv2.IMREAD_GRAYSCALE)\n",
    "tex2 = cv2.imread('texturas/D64.bmp',cv2.IMREAD_GRAYSCALE)\n",
    "tex3 = cv2.imread('texturas/D49.bmp',cv2.IMREAD_GRAYSCALE)\n",
    "tex4 = cv2.imread('texturas/D101.bmp',cv2.IMREAD_GRAYSCALE)\n",
    "#metemos las imagenes a una lista o bolsa de imagenes\n",
    "bolsa = [tex1,tex2,tex3,tex4]\n",
    "\n",
    "#Vemos las imagenes con el visor para tener una idea del tamaño de la ventana\n",
    "for imagen in bolsa:\n",
    "    cv2.imshow('Texturas',imagen)\n",
    "    cv2.waitKey(0)\n",
    "    cv2.destroyAllWindows()"
   ]
  },
  {
   "cell_type": "markdown",
   "metadata": {},
   "source": [
    "Para tex1 Dado que los bloques son uniformes y alineados. Consideramos un tamaño de ventana de (128,128), considerando que la imagen tiene dimensiones de 640x640 pixeles entonces tendremos a lo largo y a lo ancho 5 ventanas.\n",
    "Para tex2 tenemos un patron uniforme por lo que consideramos tamaño de la ventana de (107,84). Para este tamaño encontramos un periodo de la red simetrica. Dadas las dimensiones de la imagen y que queremos que se ajuste un numero entero de ventanas a lo largo y ancho de la red, entonces extendemos las dimensiones a (128,128).\n",
    "Para tex3 debido a que no existe una periodicidad bidireccional, vamos a considerar un tamaño de (128,128).\n",
    "En tex4 observamos una curvatura inherente a la imagen por lo que vamos a considerar un tamaño equivalente a nueve unidades de la imagen para asi evitar ruido debido a esta curvatura. Este tamaño equivale a una ventana de dimension (114,110). De nuevo debido a las dimensiones de la imagen, el tamaño de la ventana a considerar sera de (128,128).\n",
    "Note que las redes de las imagenes son altamente periodicas y simetricas, por lo que consideramos que no existe una gran variacion en cuanto a los valores de intensidad y textura con respecto a los pixeles vecinos, es decir, unicamente tomaremos los valores de 25 ventanas para todos los casos"
   ]
  },
  {
   "cell_type": "code",
   "execution_count": 2,
   "metadata": {},
   "outputs": [
    {
     "name": "stdout",
     "output_type": "stream",
     "text": [
      "[[4 2 1 0]\n",
      " [2 4 0 0]\n",
      " [1 0 6 1]\n",
      " [0 0 1 2]]\n"
     ]
    },
    {
     "data": {
      "text/plain": [
       "0.5833333333333333"
      ]
     },
     "execution_count": 2,
     "metadata": {},
     "output_type": "execute_result"
    }
   ],
   "source": [
    "#probamos con la matriz de ejemplo del tutorial de texturas proporcionado por\n",
    "#los profesores. El pdf puede encontrarse en la siguiente direccion:\n",
    "#https://prism.ucalgary.ca/handle/1880/51900\n",
    "#la prueba sirve para entender la funcion proporcionada por scikit-image\n",
    "image = np.array([[0, 0, 1, 1],[0, 0, 1, 1],[0, 2, 2, 2],[2, 2, 3, 3]], dtype=np.uint8)\n",
    "resultado = greycomatrix(image,distances=[1],angles=[0],levels=4,symmetric=True)\n",
    "glcm = resultado[:,:,0,0]\n",
    "print(glcm)\n",
    "contraste = greycoprops(resultado,'contrast')\n",
    "contraste[0][0]"
   ]
  },
  {
   "cell_type": "markdown",
   "metadata": {},
   "source": [
    "La Documentacion de scikit image de la funcion greycopropos nos proporciona 6 propiedades de la imagen a partir de la matriz GCLM. Estas seis propiedades son: Contraste, disimilitud, homogeneidad, ASM, energia y correlacion. Una imagen de la misma documentacion se muestra a continuacion.\n",
    "![props.PNG](attachment:props.PNG)"
   ]
  },
  {
   "cell_type": "code",
   "execution_count": 3,
   "metadata": {},
   "outputs": [],
   "source": [
    "#Dado que forzamos que las ventanas entren en las imagenes (es decir evitamos algun tipo\n",
    "#de overflow) simplemente debemos hacer dos ciclos for que iteren sobre la imagen\n",
    "#de acuerdo al tamaño de la ventana y para cada iteracion calcular la matriz GCLM\n",
    "#para asi obetener los valores deseados y guardarlos en un array.\n",
    "\n",
    "#Primero creamos un array donde almacenaremos los valores, segun el tamaño de la ventana.\n",
    "#Las dimensiones del array son (4,6,25), 4 porque cada dimension corresponderá a una imagen de textura\n",
    "#6 porque son 6propiedades y 25 ya que recorreremos la ventana 25 veces (cubriremos la imagen con 25 ventanas)\n",
    "propiedades = np.zeros((4,25,6),dtype=float)\n",
    "\n",
    "#creamos una variable auxiliar para contar las imagenes analizadas en el ciclo for\n",
    "contadorImagen = 0\n",
    "#creamos los ciclos de iteracion\n",
    "#iteramos sobre todas las imagenes\n",
    "for imagen in bolsa:\n",
    "    contadorVentana = 0\n",
    "    #iteramos sobre las filas ponemos el centro de la ventana inicial en imagen.shape[0]/10 = 64\n",
    "    #hasta llegar a 640 con paso imagen.shape[0]/5=128 que es donde se pondran los centros de la\n",
    "    #imagen\n",
    "    for filas in range(64,640,128):\n",
    "        #iteramos sobre las columnas ponemos el centro de la ventana inicial en imagen.shape[0]/10 = 64\n",
    "    #hasta llegar a 640 con paso imagen.shape[0]/5=128 que es donde se pondran los centros de la\n",
    "    #imagen\n",
    "        for columnas in range(64,640,128):\n",
    "            ventana = imagen[filas-64:filas+65,columnas-64:columnas+65]\n",
    "            GLCM = greycomatrix(ventana,distances=[1],angles=[0],symmetric=True)\n",
    "            contraste = greycoprops(GLCM,'contrast')\n",
    "            disimilitud = greycoprops(GLCM,'dissimilarity')\n",
    "            homogeneidad = greycoprops(GLCM,'homogeneity')\n",
    "            asm = greycoprops(GLCM,'ASM')\n",
    "            energia = greycoprops(GLCM,'energy')\n",
    "            correlacion = greycoprops(GLCM,'correlation')\n",
    "            propiedades[contadorImagen,contadorVentana]=(contraste,disimilitud,homogeneidad,asm,energia,correlacion)\n",
    "            contadorVentana+=1\n",
    "    contadorImagen+=1"
   ]
  },
  {
   "cell_type": "code",
   "execution_count": 4,
   "metadata": {},
   "outputs": [],
   "source": [
    "#creamos cuatro data frames (uno por cada imagen) con las propiedades que obtuvimos previamente\n",
    "#esto se hace por si se desea guardar la informacion en archivos csv, txt, data etc.\n",
    "textura1 = pd.DataFrame(propiedades[0])\n",
    "textura2 = pd.DataFrame(propiedades[1])\n",
    "textura3 = pd.DataFrame(propiedades[2])\n",
    "textura4 = pd.DataFrame(propiedades[3])\n",
    "\n",
    "#renombramos los nombres de las columnas de cada Df:\n",
    "textura1.rename(columns={0:'Contraste',1:'Disimilitud',2:'Homegeneidad',3:'ASM',4:'Energia',5:'Correlacion'}, inplace=True)\n",
    "textura2.rename(columns={0:'Contraste',1:'Disimilitud',2:'Homegeneidad',3:'ASM',4:'Energia',5:'Correlacion'}, inplace=True)\n",
    "textura3.rename(columns={0:'Contraste',1:'Disimilitud',2:'Homegeneidad',3:'ASM',4:'Energia',5:'Correlacion'}, inplace=True)\n",
    "textura4.rename(columns={0:'Contraste',1:'Disimilitud',2:'Homegeneidad',3:'ASM',4:'Energia',5:'Correlacion'}, inplace=True)"
   ]
  },
  {
   "cell_type": "code",
   "execution_count": 5,
   "metadata": {},
   "outputs": [
    {
     "data": {
      "text/html": [
       "<div>\n",
       "<style scoped>\n",
       "    .dataframe tbody tr th:only-of-type {\n",
       "        vertical-align: middle;\n",
       "    }\n",
       "\n",
       "    .dataframe tbody tr th {\n",
       "        vertical-align: top;\n",
       "    }\n",
       "\n",
       "    .dataframe thead th {\n",
       "        text-align: right;\n",
       "    }\n",
       "</style>\n",
       "<table border=\"1\" class=\"dataframe\">\n",
       "  <thead>\n",
       "    <tr style=\"text-align: right;\">\n",
       "      <th></th>\n",
       "      <th>Contraste</th>\n",
       "      <th>Disimilitud</th>\n",
       "      <th>Homegeneidad</th>\n",
       "      <th>ASM</th>\n",
       "      <th>Energia</th>\n",
       "      <th>Correlacion</th>\n",
       "      <th>Clase</th>\n",
       "    </tr>\n",
       "  </thead>\n",
       "  <tbody>\n",
       "    <tr>\n",
       "      <th>0</th>\n",
       "      <td>1958.984012</td>\n",
       "      <td>23.753513</td>\n",
       "      <td>0.184362</td>\n",
       "      <td>0.003874</td>\n",
       "      <td>0.062245</td>\n",
       "      <td>0.492462</td>\n",
       "      <td>1</td>\n",
       "    </tr>\n",
       "    <tr>\n",
       "      <th>1</th>\n",
       "      <td>1482.354227</td>\n",
       "      <td>19.447614</td>\n",
       "      <td>0.253226</td>\n",
       "      <td>0.010354</td>\n",
       "      <td>0.101755</td>\n",
       "      <td>0.471638</td>\n",
       "      <td>1</td>\n",
       "    </tr>\n",
       "    <tr>\n",
       "      <th>2</th>\n",
       "      <td>1509.096294</td>\n",
       "      <td>19.555596</td>\n",
       "      <td>0.250687</td>\n",
       "      <td>0.010210</td>\n",
       "      <td>0.101043</td>\n",
       "      <td>0.472033</td>\n",
       "      <td>1</td>\n",
       "    </tr>\n",
       "    <tr>\n",
       "      <th>3</th>\n",
       "      <td>1342.573765</td>\n",
       "      <td>18.466691</td>\n",
       "      <td>0.258279</td>\n",
       "      <td>0.011055</td>\n",
       "      <td>0.105141</td>\n",
       "      <td>0.474136</td>\n",
       "      <td>1</td>\n",
       "    </tr>\n",
       "    <tr>\n",
       "      <th>4</th>\n",
       "      <td>1372.338705</td>\n",
       "      <td>18.873650</td>\n",
       "      <td>0.242536</td>\n",
       "      <td>0.008660</td>\n",
       "      <td>0.093058</td>\n",
       "      <td>0.487630</td>\n",
       "      <td>1</td>\n",
       "    </tr>\n",
       "  </tbody>\n",
       "</table>\n",
       "</div>"
      ],
      "text/plain": [
       "     Contraste  Disimilitud  Homegeneidad       ASM   Energia  Correlacion  \\\n",
       "0  1958.984012    23.753513      0.184362  0.003874  0.062245     0.492462   \n",
       "1  1482.354227    19.447614      0.253226  0.010354  0.101755     0.471638   \n",
       "2  1509.096294    19.555596      0.250687  0.010210  0.101043     0.472033   \n",
       "3  1342.573765    18.466691      0.258279  0.011055  0.105141     0.474136   \n",
       "4  1372.338705    18.873650      0.242536  0.008660  0.093058     0.487630   \n",
       "\n",
       "   Clase  \n",
       "0      1  \n",
       "1      1  \n",
       "2      1  \n",
       "3      1  \n",
       "4      1  "
      ]
     },
     "execution_count": 5,
     "metadata": {},
     "output_type": "execute_result"
    }
   ],
   "source": [
    "#apartir de aqui ya tenemos nuestros vectores de atributos X o variables independientes. Hay que agregar las variables \n",
    "#dependientes Y. Dado que tenemos 5 clases o categorias tenemos que hacer 5 vectores de dimension (25,1) para\n",
    "#cada clase y entrenaremos primero un clasificador Bayesiano ingenuo categorico. La dimension de 25 es porque\n",
    "#tenemos 25 datos de cada clase. Asignaremos valor 1 a la imagen tex1, 2 a la tex2, etc\n",
    "yTex1 = np.ones((propiedades[0].shape[0]),dtype=int)\n",
    "yTex2 = 2*np.ones((propiedades[1].shape[0]),dtype=int)\n",
    "yTex3 = 3*np.ones((propiedades[2].shape[0]),dtype=int)\n",
    "yTex4 = 4*np.ones((propiedades[3].shape[0]),dtype=int)\n",
    "\n",
    "#creamos una nueva columna para cada dataframe llamada clase y en dicha columna ponemos el valor de la clase\n",
    "textura1['Clase'] = yTex1\n",
    "textura2['Clase'] = yTex2\n",
    "textura3['Clase'] = yTex3\n",
    "textura4['Clase'] = yTex4\n",
    "\n",
    "#creamos un nuevo Dataframe que contendra los 4 df.\n",
    "Datos = pd.concat([textura1,textura2,textura3,textura4],ignore_index=True)\n",
    "Datos.head(5)"
   ]
  },
  {
   "cell_type": "code",
   "execution_count": 6,
   "metadata": {},
   "outputs": [
    {
     "data": {
      "text/plain": [
       "CategoricalNB(alpha=1.0, class_prior=None, fit_prior=True)"
      ]
     },
     "execution_count": 6,
     "metadata": {},
     "output_type": "execute_result"
    }
   ],
   "source": [
    "#definimos nuestros conjuntos de entrenamiento de acuerdo a el df Datos\n",
    "xTrain = (Datos.drop(columns=['Clase'])).to_numpy()\n",
    "yTrain = (Datos['Clase']).to_numpy()\n",
    "#definimos y entrenamos nuestro clasificador categorico de bayes\n",
    "categoricaBayes = CategoricalNB()\n",
    "categoricaBayes.fit(xTrain,yTrain)"
   ]
  },
  {
   "cell_type": "code",
   "execution_count": 7,
   "metadata": {},
   "outputs": [
    {
     "data": {
      "text/plain": [
       "array([1, 1, 1, 1, 1, 1, 1, 1, 1, 1, 1, 1, 1, 1, 1, 1, 1, 1, 1, 1, 1, 1,\n",
       "       1, 1, 1, 2, 2, 2, 2, 2, 2, 2, 2, 2, 2, 2, 2, 2, 2, 2, 2, 2, 2, 2,\n",
       "       2, 2, 2, 2, 2, 2, 3, 3, 3, 3, 3, 3, 3, 3, 3, 3, 3, 3, 3, 3, 3, 3,\n",
       "       3, 3, 3, 3, 3, 3, 3, 3, 3, 4, 4, 4, 4, 4, 4, 4, 4, 4, 4, 4, 4, 4,\n",
       "       4, 4, 4, 4, 4, 4, 4, 4, 4, 4, 4, 4])"
      ]
     },
     "execution_count": 7,
     "metadata": {},
     "output_type": "execute_result"
    }
   ],
   "source": [
    "#Validacion cruazada. Este metodo no se usa ya que no supe como ajustar los parametros que provee\n",
    "#la validacion cruzada\n",
    "maquinaSoporte = svm.SVC(kernel='linear', C=1)\n",
    "scores = cross_val_score(maquinaSoporte, xTrain, yTrain, cv=5)\n",
    "predicted = cross_val_predict(maquinaSoporte, xTrain, yTrain, cv=5)\n",
    "predicted"
   ]
  },
  {
   "cell_type": "code",
   "execution_count": 8,
   "metadata": {},
   "outputs": [
    {
     "name": "stdout",
     "output_type": "stream",
     "text": [
      "1.0\n",
      "1.0\n",
      "1.0\n",
      "1.0\n",
      "1.0\n"
     ]
    }
   ],
   "source": [
    "#Esta parte tambien es para la validacion cruzada de K particiones, pero no se uso por el mismo problema \n",
    "#comentado en la celda anterior\n",
    "#Instanciamos una clase de SuffleSplit con 5 particiones, 20% de datos para test y una semilla para que \n",
    "#obtener resultados reproducibles\n",
    "rs = ShuffleSplit(n_splits=5, test_size=.20, random_state=0)\n",
    "#creamos un entero auxiliar que nos ayudara a guardar los parametros en un array\n",
    "cont = 6\n",
    "#creamos un array que contendra los parametros de cada particion. Por defecto, un entrenamiento\n",
    "#de svm va a dar un array de 6,6 con los parametros\n",
    "parametros = np.zeros((30,6),dtype=float)\n",
    "#para cada particion creada por la clase ShuffleSplit\n",
    "for train_index, test_index in rs.split(xTrain):\n",
    "    #define el modelo SVC de suport machine vector de sckitlear y llamalo mm\n",
    "    mm = svm.SVC(kernel='linear', C=1)\n",
    "    #entrena con los datos de entrenamiento cuyo indice corresponde a los indices de entrenamiento\n",
    "    #dados por la clase Shuffle\n",
    "    mm.fit(xTrain[train_index],yTrain[train_index])\n",
    "    #define una variable j que contendra las predicciones de cada iteracion, con los indices de test\n",
    "    j = mm.predict(xTrain[test_index])\n",
    "    #imprime el accurracy score de yTrain y j, note que deben ser los mismos indices para el caso de la\n",
    "    #prediccion y yTrain \n",
    "    print(accuracy_score(yTrain[test_index], j))\n",
    "    #guarda en la matriz de parametros, los parametros arrojados por el SVC\n",
    "    parametros[cont-6:cont,:]=mm.coef_\n",
    "    #incrementa iterativamente el entero auxiliar\n",
    "    cont+=6"
   ]
  },
  {
   "cell_type": "code",
   "execution_count": 9,
   "metadata": {},
   "outputs": [
    {
     "data": {
      "image/png": "[encoded data removed]",
      "text/plain": [
       "<Figure size 432x288 with 1 Axes>"
      ]
     },
     "metadata": {
      "needs_background": "light"
     },
     "output_type": "display_data"
    }
   ],
   "source": [
    "#Leemos nuestra imagen de preuba y la mostramos \n",
    "prueba = cv2.imread('texturas/imgCompuesta1.png',cv2.IMREAD_GRAYSCALE)\n",
    "plt.imshow(prueba,cmap='gray')\n",
    "plt.show()"
   ]
  },
  {
   "cell_type": "code",
   "execution_count": 10,
   "metadata": {},
   "outputs": [],
   "source": [
    "#creamos un array del mismo tamaño de la imagen de prueba del tipo uint8 (escala de gris), una para\n",
    "#Naive y otra para SVM (N para naive)\n",
    "imagenvalidadaN = np.zeros((prueba.shape),dtype=np.uint8)\n",
    "imagenvalidadaS = np.zeros((prueba.shape),dtype=np.uint8)\n",
    "#cremoas un array de 1 fila 6 columnas para almacenar temporalmente las propiedades obtenidas para cada ventana\n",
    "#con estas propiedades vamos a usar los modelos Naive y SVM para clasificar y/o predecir a que clase pertenece\n",
    "propiedades1=np.zeros((1,6),dtype=float)\n",
    "#iteramos sobre las filas con centro en 20 hasta 320 con paso 40\n",
    "for filas in range(20,320,40):\n",
    "    #iteramos sobre las columnas con centro en 20 hasta 320 con paso 40\n",
    "    for columnas in range(20,320,40):\n",
    "        #dados los valores de filas y columnas recorremos la ventana, el valor de la ventana sera un array con\n",
    "        #dimensiones 40x40 y sus valores seran unicamente los que corresponden a la imagen original en la posicion\n",
    "        #de la ventana\n",
    "        ventana = prueba[filas-20:filas+21,columnas-20:columnas+21]\n",
    "        #redefinimos nuestra matriz GLCM para calcular las propiedades de los valores de la ventana y asi\n",
    "        #poder clasificar\n",
    "        GLCM = greycomatrix(ventana,distances=[1],angles=[0],symmetric=True)\n",
    "        #calculamos contraste a partir de la GLCM\n",
    "        contraste = greycoprops(GLCM,'contrast')\n",
    "        #calculamos disimulitud a partir de la GLCM\n",
    "        disimilitud = greycoprops(GLCM,'dissimilarity')\n",
    "        #calculamos homogeneidad a partir de la GLCM\n",
    "        homogeneidad = greycoprops(GLCM,'homogeneity')\n",
    "        #calculamos ASM a partir de la GLCM\n",
    "        asm = greycoprops(GLCM,'ASM')\n",
    "        #calculamos energia a partir de la GLCM\n",
    "        energia = greycoprops(GLCM,'energy')\n",
    "        #calculamos correlacion a partir de la GLCM\n",
    "        correlacion = greycoprops(GLCM,'correlation')\n",
    "        #rellenamos nuestra matriz (vector de propiedades) definida previamente con los valores que acabamos de calcular\n",
    "        propiedades1[0,:] =(contraste[0][0],disimilitud[0][0],homogeneidad[0][0],asm[0][0],energia[0][0],correlacion[0][0])\n",
    "        #predecimos con SVM\n",
    "        prediS = mm.predict(propiedades1)\n",
    "        #predecimos con Naive\n",
    "        prediN = categoricaBayes.predict(propiedades1)\n",
    "        #si la prediccion con Naive fue 1 entonces rellenamos a la imagen validada con ceros, en la posicion en la\n",
    "        #que se encuentre nuestra ventana\n",
    "        if prediN[0] == 1:\n",
    "            imagenvalidadaN[filas-20:filas+21,columnas-20:columnas+21] = 0\n",
    "        #si la prediccion con Naive fue 2 entonces rellenamos a la imagen validada con 63, en la posicion en la\n",
    "        #que se encuentre nuestra ventana\n",
    "        elif prediN[0] == 2:\n",
    "            imagenvalidadaN[filas-20:filas+21,columnas-20:columnas+21] = 63\n",
    "        #si la prediccion con Naive fue 3 entonces rellenamos a la imagen validada con 127, en la posicion en la\n",
    "        #que se encuentre nuestra ventana\n",
    "        elif prediN[0] == 3:\n",
    "            imagenvalidadaN[filas-20:filas+21,columnas-20:columnas+21] = 127\n",
    "        #si la prediccion con Naive fue 4 entonces rellenamos a la imagen validada con 255, en la posicion en la\n",
    "        #que se encuentre nuestra ventana\n",
    "        elif prediN[0]==4:\n",
    "            imagenvalidadaN[filas-20:filas+21,columnas-20:columnas+21] = 255\n",
    "        #si la prediccion con SVM fue 1 entonces rellenamos a la imagen validada con ceros, en la posicion en la\n",
    "        #que se encuentre nuestra ventana\n",
    "        if prediS[0] == 1:\n",
    "            imagenvalidadaS[filas-20:filas+21,columnas-20:columnas+21] = 0\n",
    "        #si la prediccion con SVM fue 2 entonces rellenamos a la imagen validada con 63, en la posicion en la\n",
    "        #que se encuentre nuestra ventana\n",
    "        elif prediS[0] == 2:\n",
    "            imagenvalidadaS[filas-20:filas+21,columnas-20:columnas+21] = 63\n",
    "        #si la prediccion con SVM fue 3 entonces rellenamos a la imagen validada con 127, en la posicion en la\n",
    "        #que se encuentre nuestra ventana\n",
    "        elif prediS[0] == 3:\n",
    "            imagenvalidadaS[filas-20:filas+21,columnas-20:columnas+21] = 127\n",
    "        #si la prediccion con SVM fue 4 entonces rellenamos a la imagen validada con 255, en la posicion en la\n",
    "        #que se encuentre nuestra ventana\n",
    "        elif prediS[0]==4:\n",
    "            imagenvalidadaS[filas-20:filas+21,columnas-20:columnas+21] = 255"
   ]
  },
  {
   "cell_type": "code",
   "execution_count": 11,
   "metadata": {},
   "outputs": [],
   "source": [
    "cv2.imshow('Texturas',imagenvalidadaS)\n",
    "cv2.waitKey(0)\n",
    "cv2.destroyAllWindows()"
   ]
  },
  {
   "cell_type": "code",
   "execution_count": 12,
   "metadata": {},
   "outputs": [],
   "source": [
    "def caracteristicas(tamano,Imagen):\n",
    "    propiedades = np.zeros((round(Imagen.shape[0]/tamano)**2,6),dtype=float)\n",
    "    contadorVentana = 0\n",
    "    centro = round(tamano/2)\n",
    "    for filas in range(centro,Imagen.shape[0],tamano):\n",
    "        for columnas in range(centro,Imagen.shape[0],tamano):\n",
    "            ventana = Imagen[filas-centro:filas+(centro+1),columnas-centro:columnas+(centro+1)]\n",
    "            GLCM = greycomatrix(ventana,distances=[1],angles=[0],symmetric=True)\n",
    "            contraste = greycoprops(GLCM,'contrast')\n",
    "            disimilitud = greycoprops(GLCM,'dissimilarity')\n",
    "            homogeneidad = greycoprops(GLCM,'homogeneity')\n",
    "            asm = greycoprops(GLCM,'ASM')\n",
    "            energia = greycoprops(GLCM,'energy')\n",
    "            correlacion = greycoprops(GLCM,'correlation')\n",
    "            propiedades[contadorVentana]=(contraste,disimilitud,homogeneidad,asm,energia,correlacion)\n",
    "            contadorVentana+=1\n",
    "    return propiedades"
   ]
  },
  {
   "cell_type": "code",
   "execution_count": 13,
   "metadata": {},
   "outputs": [],
   "source": [
    "c1 = caracteristicas(64,tex1)\n",
    "c2 = caracteristicas(64,tex2)\n",
    "c3 = caracteristicas(64,tex3)\n",
    "c4 = caracteristicas(64,tex4)"
   ]
  },
  {
   "cell_type": "code",
   "execution_count": 14,
   "metadata": {},
   "outputs": [
    {
     "data": {
      "text/plain": [
       "SVC(C=1, break_ties=False, cache_size=200, class_weight=None, coef0=0.0,\n",
       "    decision_function_shape='ovr', degree=3, gamma='scale', kernel='linear',\n",
       "    max_iter=-1, probability=False, random_state=None, shrinking=True,\n",
       "    tol=0.001, verbose=False)"
      ]
     },
     "execution_count": 14,
     "metadata": {},
     "output_type": "execute_result"
    }
   ],
   "source": [
    "y1 = np.ones((c1.shape[0]),dtype=int)\n",
    "y2 = 2*np.ones((c2.shape[0]),dtype=int)\n",
    "y3 = 3*np.ones((c3.shape[0]),dtype=int)\n",
    "y4 = 4*np.ones((c4.shape[0]),dtype=int)\n",
    "t1 = pd.DataFrame(c1)\n",
    "t2 = pd.DataFrame(c2)\n",
    "t3 = pd.DataFrame(c3)\n",
    "t4 = pd.DataFrame(c4)\n",
    "#renombramos los nombres de las columnas de cada Df:\n",
    "t1.rename(columns={0:'Contraste',1:'Disimilitud',2:'Homegeneidad',3:'ASM',4:'Energia',5:'Correlacion'}, inplace=True)\n",
    "t2.rename(columns={0:'Contraste',1:'Disimilitud',2:'Homegeneidad',3:'ASM',4:'Energia',5:'Correlacion'}, inplace=True)\n",
    "t3.rename(columns={0:'Contraste',1:'Disimilitud',2:'Homegeneidad',3:'ASM',4:'Energia',5:'Correlacion'}, inplace=True)\n",
    "t4.rename(columns={0:'Contraste',1:'Disimilitud',2:'Homegeneidad',3:'ASM',4:'Energia',5:'Correlacion'}, inplace=True)\n",
    "#creamos una nueva columna para cada dataframe llamada clase y en dicha columna ponemos el valor de la clase\n",
    "t1['Clase'] = y1\n",
    "t2['Clase'] = y2\n",
    "t3['Clase'] = y3\n",
    "t4['Clase'] = y4\n",
    "\n",
    "#creamos un nuevo Dataframe que contendra los 4 df.\n",
    "D = pd.concat([t1,t2,t3,t4],ignore_index=True)\n",
    "#definimos nuestros conjuntos de entrenamiento de acuerdo a el df Datos\n",
    "xT = (D.drop(columns=['Clase'])).to_numpy()\n",
    "yT = (D['Clase']).to_numpy()\n",
    "#definimos y entrenamos nuestro clasificador categorico de bayes\n",
    "categorica = CategoricalNB()\n",
    "categorica.fit(xT,yT)\n",
    "maquinaSoporte.fit(xT,yT)\n"
   ]
  },
  {
   "cell_type": "code",
   "execution_count": 15,
   "metadata": {},
   "outputs": [],
   "source": [
    "def validacion(tamano, Imagen, modelo):\n",
    "    imagenValidada = np.zeros((Imagen.shape),dtype=np.uint8)\n",
    "    propiedades = np.zeros((1,6), dtype=float)\n",
    "    centro = round(tamano/2)\n",
    "    for filas in range(centro,Imagen.shape[0],tamano):\n",
    "        for columnas in range(centro,Imagen.shape[0],tamano):\n",
    "            ventana = Imagen[filas-centro:filas+(centro+1),columnas-centro:columnas+(centro+1)]\n",
    "            GLCM = greycomatrix(ventana,distances=[1],angles=[0],symmetric=True)\n",
    "            contraste = greycoprops(GLCM,'contrast')\n",
    "            disimilitud = greycoprops(GLCM,'dissimilarity')\n",
    "            homogeneidad = greycoprops(GLCM,'homogeneity')\n",
    "            asm = greycoprops(GLCM,'ASM')\n",
    "            energia = greycoprops(GLCM,'energy')\n",
    "            correlacion = greycoprops(GLCM,'correlation')\n",
    "            propiedades[0,:] =(contraste[0][0],disimilitud[0][0],homogeneidad[0][0],asm[0][0],energia[0][0],correlacion[0][0])\n",
    "            prediccion = modelo.predict(propiedades)\n",
    "            if prediccion[0] == 1:\n",
    "                imagenValidada[filas-centro:filas+(centro+1),columnas-centro:columnas+(centro+1)] = 0\n",
    "            elif prediccion[0] == 2:\n",
    "                imagenValidada[filas-centro:filas+(centro+1),columnas-centro:columnas+(centro+1)] = 63\n",
    "            elif prediccion[0] == 3:\n",
    "                imagenValidada[filas-centro:filas+(centro+1),columnas-centro:columnas+(centro+1)] = 127\n",
    "            else:\n",
    "                imagenValidada[filas-centro:filas+(centro+1),columnas-centro:columnas+(centro+1)] = 255\n",
    "    return imagenValidada"
   ]
  },
  {
   "cell_type": "code",
   "execution_count": 16,
   "metadata": {},
   "outputs": [],
   "source": [
    "imagenvalidada = np.zeros((prueba.shape),dtype=np.uint8)\n",
    "propiedades1=np.zeros((1,6),dtype=float)\n",
    "for filas in range(20,320,40):\n",
    "    #iteramos sobre las columnas ponemos el centro de la ventana inicial en imagen.shape[0]/10 = 64\n",
    "    #hasta llegar a 640 con paso imagen.shape[0]/5=128 que es donde se pondran los centros de la\n",
    "    #imagen\n",
    "    for columnas in range(20,320,40):\n",
    "        ventana = prueba[filas-20:filas+21,columnas-20:columnas+21]\n",
    "        GLCM = greycomatrix(ventana,distances=[1],angles=[0],symmetric=True)\n",
    "        contraste = greycoprops(GLCM,'contrast')\n",
    "        disimilitud = greycoprops(GLCM,'dissimilarity')\n",
    "        homogeneidad = greycoprops(GLCM,'homogeneity')\n",
    "        asm = greycoprops(GLCM,'ASM')\n",
    "        energia = greycoprops(GLCM,'energy')\n",
    "        correlacion = greycoprops(GLCM,'correlation')\n",
    "        propiedades1[0,:] =(contraste[0][0],disimilitud[0][0],homogeneidad[0][0],asm[0][0],energia[0][0],correlacion[0][0])\n",
    "        predi = maquinaSoporte.predict(propiedades1)\n",
    "        #predi = categorica.predict(propiedades1)\n",
    "        if predi[0] == 1:\n",
    "            imagenvalidada[filas-20:filas+21,columnas-20:columnas+21] = 0\n",
    "        elif predi[0] == 2:\n",
    "            imagenvalidada[filas-20:filas+21,columnas-20:columnas+21] = 63\n",
    "        elif predi[0] == 3:\n",
    "            imagenvalidada[filas-20:filas+21,columnas-20:columnas+21] = 127\n",
    "        else:\n",
    "            imagenvalidada[filas-20:filas+21,columnas-20:columnas+21] = 255"
   ]
  },
  {
   "cell_type": "code",
   "execution_count": 17,
   "metadata": {},
   "outputs": [],
   "source": [
    "ImagenSVM = validacion(41,prueba,maquinaSoporte)\n"
   ]
  },
  {
   "cell_type": "code",
   "execution_count": 18,
   "metadata": {},
   "outputs": [],
   "source": [
    "cv2.imshow('Texturas',ImagenSVM)\n",
    "cv2.waitKey(0)\n",
    "cv2.destroyAllWindows()"
   ]
  },
  {
   "cell_type": "code",
   "execution_count": 19,
   "metadata": {},
   "outputs": [
    {
     "data": {
      "text/plain": [
       "ShuffleSplit(n_splits=5, random_state=0, test_size=0.2, train_size=None)"
      ]
     },
     "execution_count": 19,
     "metadata": {},
     "output_type": "execute_result"
    }
   ],
   "source": [
    "rs"
   ]
  }
 ],
 "metadata": {
  "kernelspec": {
   "display_name": "Python 3",
   "language": "python",
   "name": "python3"
  },
  "language_info": {
   "codemirror_mode": {
    "name": "ipython",
    "version": 3
   },
   "file_extension": ".py",
   "mimetype": "text/x-python",
   "name": "python",
   "nbconvert_exporter": "python",
   "pygments_lexer": "ipython3",
   "version": "3.7.7"
  }
 },
 "nbformat": 4,
 "nbformat_minor": 4
}
